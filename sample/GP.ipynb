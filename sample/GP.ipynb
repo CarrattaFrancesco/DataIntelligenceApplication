{
 "metadata": {
  "language_info": {
   "codemirror_mode": {
    "name": "ipython",
    "version": 3
   },
   "file_extension": ".py",
   "mimetype": "text/x-python",
   "name": "python",
   "nbconvert_exporter": "python",
   "pygments_lexer": "ipython3",
   "version": "3.7.10"
  },
  "orig_nbformat": 2,
  "kernelspec": {
   "name": "python3710jvsc74a57bd09f22e613f5dbd91bb82db940b9d37a0d2b72ab89fbc3a785c3fefe3e67059d85",
   "display_name": "Python 3.7.10 64-bit ('dia': conda)"
  },
  "metadata": {
   "interpreter": {
    "hash": "9f22e613f5dbd91bb82db940b9d37a0d2b72ab89fbc3a785c3fefe3e67059d85"
   }
  }
 },
 "nbformat": 4,
 "nbformat_minor": 2,
 "cells": [
  {
   "source": [
    "## Kernel Function \n",
    "\n",
    "How two points in the in the input space are similar.\n",
    "Most used kernel : Gaussian Kernel, it has a mean and a variance. \n",
    "\n",
    "### Python for Gaussian Processes \n",
    "\n",
    "We want to estimate a function that maps the bids to the number of clicks\n",
    "\n",
    "Bid belongs to {0.10 -> 1.00} <b> Already normalized </b> \n",
    "\n",
    "We will generate the datapoints one at the time. "
   ],
   "cell_type": "markdown",
   "metadata": {}
  },
  {
   "cell_type": "code",
   "execution_count": 1,
   "metadata": {},
   "outputs": [],
   "source": [
    "import numpy as np\n",
    "from matplotlib import pyplot as plt \n",
    "from sklearn.gaussian_process import GaussianProcessRegressor\n",
    "from sklearn.gaussian_process.kernels import RBF, ConstantKernel as C\n",
    "\n",
    "\n",
    "def n(x):\n",
    "    # The real function to estimate \n",
    "    return (1.0 - np.exp(-5.0 *x)) * 100\n",
    "\n",
    "def generate_observation(x , noise_std):\n",
    "    return n(x) + np.random.normal(0, noise_std, size = n(x).shape)"
   ]
  },
  {
   "cell_type": "code",
   "execution_count": 1,
   "metadata": {},
   "outputs": [
    {
     "output_type": "error",
     "ename": "ModuleNotFoundError",
     "evalue": "No module named 'imageio'",
     "traceback": [
      "\u001b[1;31m---------------------------------------------------------------------------\u001b[0m",
      "\u001b[1;31mModuleNotFoundError\u001b[0m                       Traceback (most recent call last)",
      "\u001b[1;32m<ipython-input-1-d1e93cbabe1d>\u001b[0m in \u001b[0;36m<module>\u001b[1;34m\u001b[0m\n\u001b[1;32m----> 1\u001b[1;33m \u001b[1;32mimport\u001b[0m \u001b[0mimageio\u001b[0m\u001b[1;33m\u001b[0m\u001b[1;33m\u001b[0m\u001b[0m\n\u001b[0m\u001b[0;32m      2\u001b[0m \u001b[0mn_observation\u001b[0m \u001b[1;33m=\u001b[0m \u001b[1;36m50\u001b[0m\u001b[1;33m\u001b[0m\u001b[1;33m\u001b[0m\u001b[0m\n\u001b[0;32m      3\u001b[0m \u001b[0mbids\u001b[0m \u001b[1;33m=\u001b[0m \u001b[0mnp\u001b[0m\u001b[1;33m.\u001b[0m\u001b[0mlinspace\u001b[0m\u001b[1;33m(\u001b[0m\u001b[1;36m0.0\u001b[0m\u001b[1;33m,\u001b[0m \u001b[1;36m1.0\u001b[0m\u001b[1;33m,\u001b[0m \u001b[1;36m20\u001b[0m\u001b[1;33m)\u001b[0m\u001b[1;33m\u001b[0m\u001b[1;33m\u001b[0m\u001b[0m\n\u001b[0;32m      4\u001b[0m \u001b[0mx_observations\u001b[0m \u001b[1;33m=\u001b[0m \u001b[0mnp\u001b[0m\u001b[1;33m.\u001b[0m\u001b[0marray\u001b[0m\u001b[1;33m(\u001b[0m\u001b[1;33m[\u001b[0m\u001b[1;33m]\u001b[0m\u001b[1;33m)\u001b[0m\u001b[1;33m\u001b[0m\u001b[1;33m\u001b[0m\u001b[0m\n\u001b[0;32m      5\u001b[0m \u001b[0my_observations\u001b[0m \u001b[1;33m=\u001b[0m \u001b[0mnp\u001b[0m\u001b[1;33m.\u001b[0m\u001b[0marray\u001b[0m\u001b[1;33m(\u001b[0m\u001b[1;33m[\u001b[0m\u001b[1;33m]\u001b[0m\u001b[1;33m)\u001b[0m\u001b[1;33m\u001b[0m\u001b[1;33m\u001b[0m\u001b[0m\n",
      "\u001b[1;31mModuleNotFoundError\u001b[0m: No module named 'imageio'"
     ]
    }
   ],
   "source": [
    "import imageio \n",
    "n_observation = 50 \n",
    "bids = np.linspace(0.0, 1.0, 20)\n",
    "x_observations = np.array([])\n",
    "y_observations = np.array([])\n",
    "noise_std = 5.0 \n",
    "images = []  #To generate the final gif, it doesn't create automatically the folder GP_plots\n",
    "\n",
    "\n",
    "for i in range(n_observation):\n",
    "\n",
    "    new_x = np.random.choice(bids, 1)\n",
    "    new_y = generate_observation(new_x , noise_std)\n",
    "\n",
    "    x_observations = np.append(x_observations, new_x)\n",
    "    y_observations = np.append(y_observations, new_y)\n",
    "\n",
    "    X = np.atleast_2d(x_observations).T\n",
    "    Y = y_observations.ravel()\n",
    "\n",
    "    theta = 1.0\n",
    "    l = 1.0\n",
    "    kernel = C(theta, (1e-03, 1e3)) * RBF(1, (1e-3, 1e3)) \n",
    "    gp = GaussianProcessRegressor(kernel = kernel, alpha = noise_std**2, normalize_y = False, n_restarts_optimizer = 10)\n",
    "\n",
    "    gp.fit(X,Y)\n",
    "\n",
    "    x_pred = np.atleast_2d(bids).T\n",
    "    y_pred, sigma = gp.predict(x_pred, return_std = True)\n",
    "\n",
    "    plt.figure(i)\n",
    "    plt.plot(x_pred, n(x_pred), 'r:', label = '$n(x)$')\n",
    "    plt.plot(X.ravel(), Y, 'ro', label = 'Observed Values')\n",
    "    plt.plot(x_pred, y_pred, 'b-', label = 'Predicted Clicks')\n",
    "    plt.fill(np.concatenate([x_pred, x_pred[::-1]]),\n",
    "             np.concatenate([y_pred - 1.96 * sigma, (y_pred + 1.96 * sigma)[::-1]]),\n",
    "             alpha=.5, fc = 'b', ec = 'None', label= '0.95 confidence interval')\n",
    "    plt.xlabel('$x$')\n",
    "    plt.ylabel('$n(x)$')\n",
    "    plt.legend(loc='lower right')\n",
    "    plt.savefig(fname = 'GP_plots/'+str(i)) \n",
    "    images.append(imageio.imread('./GP_plots/' + str(i)+ '.png'))\n",
    "\n",
    "imageio.mimsave('gp_regressor.gif', images)"
   ]
  },
  {
   "cell_type": "code",
   "execution_count": null,
   "metadata": {},
   "outputs": [],
   "source": []
  }
 ]
}