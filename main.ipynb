{
 "metadata": {
  "language_info": {
   "codemirror_mode": {
    "name": "ipython",
    "version": 3
   },
   "file_extension": ".py",
   "mimetype": "text/x-python",
   "name": "python",
   "nbconvert_exporter": "python",
   "pygments_lexer": "ipython3",
   "version": "3.8.6-final"
  },
  "orig_nbformat": 2,
  "kernelspec": {
   "name": "python3",
   "display_name": "Python 3.8.6 64-bit",
   "metadata": {
    "interpreter": {
     "hash": "e7370f93d1d0cde622a1f8e1c04877d8463912d04d973331ad4851f04de6915a"
    }
   }
  }
 },
 "nbformat": 4,
 "nbformat_minor": 2,
 "cells": [
  {
   "source": [
    "## Objective Function:\n",
    "\n",
    "Maximizing the revenue, given as the difference between the reward (profit) and the cost per click times the clicks ( costs ). \n",
    "\n",
    "It can be expressed as :\n",
    "### $ max_{price,bid}( \\sum \\limits_{C_i} (price \\times soldItems(bid, price)) - (clicks(bid) \\times costPerClick(bid))) $\n",
    "\n",
    "\n"
   ],
   "cell_type": "markdown",
   "metadata": {}
  },
  {
   "source": [
    "\n",
    "(price, bid) for each customer class ; \n",
    "\n",
    "#in theory we know, but actually we don't \n"
   ],
   "cell_type": "markdown",
   "metadata": {}
  },
  {
   "cell_type": "code",
   "execution_count": 1,
   "metadata": {},
   "outputs": [
    {
     "output_type": "execute_result",
     "data": {
      "text/plain": [
       "8.805691102608005"
      ]
     },
     "metadata": {},
     "execution_count": 1
    }
   ],
   "source": [
    "from customerManager import CustomerManager\n",
    "path = \"./config/customer_classes.json\"\n",
    "manager = CustomerManager(file_path = path, noise_variances = [100, 100 ,100 ,100])\n",
    "\n",
    "manager.clicks(class_id = 0, bid= 1)"
   ]
  },
  {
   "cell_type": "code",
   "execution_count": null,
   "metadata": {},
   "outputs": [],
   "source": []
  }
 ]
}