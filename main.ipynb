{
 "metadata": {
  "language_info": {
   "codemirror_mode": {
    "name": "ipython",
    "version": 3
   },
   "file_extension": ".py",
   "mimetype": "text/x-python",
   "name": "python",
   "nbconvert_exporter": "python",
   "pygments_lexer": "ipython3",
   "version": 3
  },
  "orig_nbformat": 2
 },
 "nbformat": 4,
 "nbformat_minor": 2,
 "cells": [
  {
   "source": [
    "## Objective Function:\n",
    "\n",
    "Maximizing the revenue, given as the difference between the reward (profit) and the cost per click times the clicks ( costs ). \n",
    "\n",
    "It can be expressed as :\n",
    "### $ max_{price,bid}( \\sum \\limits_{C_i} (price \\times soldItems(bid, price)) - (clicks(bid) \\times costPerClick(bid))) $\n",
    "\n",
    "\n"
   ],
   "cell_type": "markdown",
   "metadata": {}
  },
  {
   "cell_type": "code",
   "execution_count": null,
   "metadata": {},
   "outputs": [],
   "source": [
    "\n",
    "\n"
   ]
  }
 ]
}