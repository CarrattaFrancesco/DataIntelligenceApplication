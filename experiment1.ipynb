{
 "metadata": {
  "language_info": {
   "codemirror_mode": {
    "name": "ipython",
    "version": 3
   },
   "file_extension": ".py",
   "mimetype": "text/x-python",
   "name": "python",
   "nbconvert_exporter": "python",
   "pygments_lexer": "ipython3",
   "version": "3.8.6-final"
  },
  "orig_nbformat": 2,
  "kernelspec": {
   "name": "python386jvsc74a57bd0767d51c1340bd893661ea55ea3124f6de3c7a262a8b4abca0554b478b1e2ff90",
   "display_name": "Python 3.8.6 64-bit"
  },
  "metadata": {
   "interpreter": {
    "hash": "767d51c1340bd893661ea55ea3124f6de3c7a262a8b4abca0554b478b1e2ff90"
   }
  }
 },
 "nbformat": 4,
 "nbformat_minor": 2,
 "cells": [
  {
   "source": [
    "### First step\n",
    "\n",
    "In the following step we are going to find the best joint (bid, pricing) using the implementation of Non Linear Programming optimization Algorithm provided by the Scipy Library"
   ],
   "cell_type": "markdown",
   "metadata": {}
  },
  {
   "cell_type": "code",
   "execution_count": 1,
   "metadata": {},
   "outputs": [],
   "source": [
    "from customerManager import CustomerManager\n",
    "customer_path = \"./config/customer_classes.json\"\n",
    "cManager = CustomerManager(file_path = customer_path)"
   ]
  },
  {
   "cell_type": "code",
   "execution_count": 2,
   "metadata": {},
   "outputs": [],
   "source": [
    "import numpy as np\n",
    "import scipy.optimize as opt\n",
    "\n",
    "count = 0\n",
    "def objective(x):   \n",
    "    global count    \n",
    "    count = count + 1\n",
    "\n",
    "    #Checks bound of bid \n",
    "    res = 0.0\n",
    "    price = x[3]\n",
    "    for i in range(3):\n",
    "        if x[i] < 1 or x[i] > 10 : return 0.0 \n",
    "    \n",
    "    for c in cManager.classes : \n",
    "        c_id = c[\"class_id\"]\n",
    "        bid = x[c_id]\n",
    "        res += (price * cManager.sold_items(class_id = c_id, bid = bid, price = price, noise=False)) - \\\n",
    "              (cManager.cost_per_click(class_id=c_id, bid = bid, noise=False) * cManager.clicks(class_id = c_id, bid = bid,noise=False))\n",
    "    return -res\n",
    "\n",
    "\n",
    "\n",
    "# optimize\n",
    "b_p = (3.0,15.0)\n",
    "b_b = (1.0 , 10.0)\n",
    "bnds = (b_b, b_b, b_b, b_p)\n",
    "\n",
    "methods_with_jac = ['Nelder-Mead','Powell','CG','BFGS','Newton-CG','L-BFGS-B','TNC','COBYLA','SLSQP','trust-constr','dogleg','trust-ncg','trust-krylov','trust-exact']\n",
    "methods = ['Nelder-Mead','Powell','CG','BFGS','L-BFGS-B','TNC','COBYLA','SLSQP','trust-constr']\n",
    "\n",
    "max_value = 0\n",
    "best_method = 'none'\n",
    "best_x = None"
   ]
  },
  {
   "cell_type": "code",
   "execution_count": 3,
   "metadata": {},
   "outputs": [
    {
     "output_type": "stream",
     "name": "stdout",
     "text": [
      "Best method is Powell with a value of 5428.765711736162\nSolution\nx1 = 5.928979108120101\nx2 = 2.6824056524184523\nx3 = 3.1209461045533353\nx4 = 6.534959661928547\n"
     ]
    }
   ],
   "source": [
    "import warnings\n",
    "warnings.filterwarnings(\"ignore\")\n",
    "\n",
    "# perfrom over different model\n",
    "# initial guesses\n",
    "n = 4\n",
    "x0 = np.zeros(n)\n",
    "x0[0] = 5.0    #Bid_class0\n",
    "x0[1] = 5.0    #Bid_class1\n",
    "x0[2] = 5.0    #Bid_class2\n",
    "x0[3] = 7.5    #Price\n",
    "# show initial objective\n",
    "'''\n",
    "for x0 in X0:\n",
    "    print('Initial SSE Objective: ' + str(objective(x0)))\n",
    "    print(x0)\n",
    "'''\n",
    "for m in methods:\n",
    "\n",
    "    count = 0\n",
    "    solution = opt.minimize(objective, x0, method = m,  bounds = bnds) \n",
    "    x = solution.x\n",
    "    '''\n",
    "    print(\"Start with \" + m)\n",
    "    print('Final SSE Objective: ' + str(-objective(x)))\n",
    "    print('Objective function runned : ' + str(count))\n",
    "    # print solution\n",
    "    print('Solution')\n",
    "    print('x1 = ' + str(x[0]))\n",
    "    print('x2 = ' + str(x[1]))\n",
    "    print('x3 = ' + str(x[2]))\n",
    "    print('x4 = ' + str(x[3]))\n",
    "    '''\n",
    "    if max_value < -objective(x):\n",
    "        max_value = -objective(x)\n",
    "        best_method = m\n",
    "        best_x = x\n",
    "\n",
    "print(\"Best method is \" + best_method + \" with a value of \" + str(max_value))\n",
    "print('Solution')\n",
    "print('x1 = ' + str(best_x[0]))\n",
    "print('x2 = ' + str(best_x[1]))\n",
    "print('x3 = ' + str(best_x[2]))\n",
    "print('x4 = ' + str(best_x[3]))\n"
   ]
  },
  {
   "cell_type": "code",
   "execution_count": 4,
   "metadata": {},
   "outputs": [
    {
     "output_type": "stream",
     "name": "stdout",
     "text": [
      "Best method is Powell with a value of 5430.25897536469\nSolution\nx1 = 5.928954108179956\nx2 = 2.682396521822428\nx3 = 2.9540452274843294\nx4 = 6.541655879916771\n"
     ]
    }
   ],
   "source": [
    "#perform over different stating points\n",
    "X0 = []\n",
    "for i in range(1,8):\n",
    "    n = float(i)\n",
    "    if i >= 10:\n",
    "        n = 9.0\n",
    "    X0.append([n,n,n,float(i+3)])\n",
    "\n",
    "for x0 in X0:\n",
    "    count = 0\n",
    "    solution = opt.minimize(objective, x0, method = 'Powell',  bounds = bnds) \n",
    "    x = solution.x\n",
    "    if max_value < -objective(x):\n",
    "        max_value = -objective(x)\n",
    "        best_method = 'Powell'\n",
    "        best_x = x\n",
    "\n",
    "print(\"Best method is \" + best_method + \" with a value of \" + str(max_value))\n",
    "print('Solution')\n",
    "print('x1 = ' + str(best_x[0]))\n",
    "print('x2 = ' + str(best_x[1]))\n",
    "print('x3 = ' + str(best_x[2]))\n",
    "print('x4 = ' + str(best_x[3]))"
   ]
  }
 ]
}