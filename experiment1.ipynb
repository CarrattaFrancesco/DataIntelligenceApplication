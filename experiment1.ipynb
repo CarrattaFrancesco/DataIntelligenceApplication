{
 "metadata": {
  "language_info": {
   "codemirror_mode": {
    "name": "ipython",
    "version": 3
   },
   "file_extension": ".py",
   "mimetype": "text/x-python",
   "name": "python",
   "nbconvert_exporter": "python",
   "pygments_lexer": "ipython3",
   "version": "3.8.6-final"
  },
  "orig_nbformat": 2,
  "kernelspec": {
   "name": "python386jvsc74a57bd0767d51c1340bd893661ea55ea3124f6de3c7a262a8b4abca0554b478b1e2ff90",
   "display_name": "Python 3.8.6 64-bit"
  },
  "metadata": {
   "interpreter": {
    "hash": "767d51c1340bd893661ea55ea3124f6de3c7a262a8b4abca0554b478b1e2ff90"
   }
  }
 },
 "nbformat": 4,
 "nbformat_minor": 2,
 "cells": [
  {
   "source": [
    "### First step\n",
    "\n",
    "In the following step we are going to find the best joint (bid, pricing) using the implementation of Non Linear Programming optimization Algorithm provided by the Scipy Library"
   ],
   "cell_type": "markdown",
   "metadata": {}
  },
  {
   "source": [
    "## Optimize with different bid"
   ],
   "cell_type": "markdown",
   "metadata": {}
  },
  {
   "cell_type": "code",
   "execution_count": 1,
   "metadata": {},
   "outputs": [],
   "source": [
    "import numpy as np\n",
    "import scipy.optimize as opt\n",
    "from tqdm import tqdm\n",
    "\n",
    "import warnings\n",
    "warnings.filterwarnings(\"ignore\")\n",
    "\n",
    "from customerManager import CustomerManager\n",
    "customer_path = \"./config/customer_classes.json\"\n",
    "cManager = CustomerManager(file_path = customer_path)\n",
    "\n",
    "def objective( x):\n",
    "    bids = x[:3]\n",
    "    price = x[3]\n",
    "\n",
    "    #Checks integrity\n",
    "    if price <= 0 or price > 15 : return 0.0 \n",
    "    if any(b < 1 or b > 10 for b in bids): return 0.0\n",
    "\n",
    "\n",
    "    res = cManager.revenue(bids,price,noise=False)\n",
    "\n",
    "    return -res[0]\n",
    "\n",
    "\n",
    "# optimize\n",
    "b_p = (3.0,15.0)\n",
    "b_b = (1.0 , 10.0)\n",
    "bnds = (b_b, b_b, b_b, b_p)\n",
    "\n",
    "methods_with_jac = ['Nelder-Mead','Powell','CG','BFGS','Newton-CG','L-BFGS-B','TNC','COBYLA','SLSQP','trust-constr','dogleg','trust-ncg','trust-krylov','trust-exact']\n",
    "methods = ['Nelder-Mead','Powell','CG','BFGS','L-BFGS-B','TNC','COBYLA','SLSQP','trust-constr']\n",
    "\n",
    "max_value = 0\n",
    "best_method = 'none'\n",
    "best_x = None\n"
   ]
  },
  {
   "source": [
    "### Over different starting points and methods"
   ],
   "cell_type": "markdown",
   "metadata": {}
  },
  {
   "cell_type": "code",
   "execution_count": 2,
   "metadata": {},
   "outputs": [],
   "source": [
    "def objective( x):\n",
    "    bids = x[:3]\n",
    "    price = x[3]\n",
    "\n",
    "    #Checks integrity\n",
    "    if price <= 0 or price > 15 : return 0.0 \n",
    "    if any(b < 1 or b > 10 for b in bids): return 0.0\n",
    "\n",
    "\n",
    "    res = cManager.revenue(bids,price,noise=False)\n",
    "\n",
    "    return -res[0]"
   ]
  },
  {
   "cell_type": "code",
   "execution_count": 3,
   "metadata": {},
   "outputs": [],
   "source": [
    "bids = np.linspace(1,10,10) \n",
    "prices = np.linspace(3,15,13)\n",
    "\n",
    "X_tmp = []\n",
    "X= []\n",
    "n_starting_points = 50\n",
    "#generate random starting point\n",
    "for b1 in bids:\n",
    "    for b2 in bids:\n",
    "        for b3 in bids:\n",
    "            for p in prices:\n",
    "                X_tmp.append([b1,b2,b3,p])\n",
    "\n",
    "for i in range(n_starting_points):\n",
    "    X.append(X_tmp[np.random.choice(range(0,len(X_tmp)))])\n",
    "\n",
    "X= np.array(X)"
   ]
  },
  {
   "cell_type": "code",
   "execution_count": 5,
   "metadata": {},
   "outputs": [
    {
     "output_type": "stream",
     "name": "stderr",
     "text": [
      "100%|██████████| 50/50 [01:05<00:00,  1.32s/it]\n",
      "\n",
      "Best method is TNC with a value of 1136.3047933406942\n",
      "Solution\n",
      "bid 1 = 3.9416202240277745\n",
      "bid 2 = 3.0\n",
      "bid 3 = 4.0\n",
      "price = 7.000000000000001\n",
      "\n"
     ]
    }
   ],
   "source": [
    "for x0 in tqdm(X):\n",
    "    for m in methods:\n",
    "        solution = opt.minimize(objective, x0, method = m) \n",
    "        x = solution.x\n",
    "\n",
    "        if max_value < -objective(x):\n",
    "            max_value = -objective(x)\n",
    "            best_method = m\n",
    "            best_x = x\n",
    "print(\"\\n\")\n",
    "print(\"Best method is \" + best_method + \" with a value of \" + str(max_value))\n",
    "print('Solution')\n",
    "print('bid 1 = ' + str(best_x[0]))\n",
    "print('bid 2 = ' + str(best_x[1]))\n",
    "print('bid 3 = ' + str(best_x[2]))\n",
    "print('price = ' + str(best_x[3]))\n"
   ]
  },
  {
   "source": [
    "### Optimize with one bid"
   ],
   "cell_type": "markdown",
   "metadata": {}
  },
  {
   "cell_type": "code",
   "execution_count": 6,
   "metadata": {},
   "outputs": [],
   "source": [
    "def objective( x):\n",
    "    bid = x[0]\n",
    "    price = x[1]\n",
    "\n",
    "    #Checks integrity\n",
    "    if price <= 0 or price > 15 : return 0.0 \n",
    "    if bid < 1 or bid > 10: return 0.0\n",
    "\n",
    "\n",
    "    res = cManager.revenue(bids,price,noise=False)\n",
    "\n",
    "    return -res[0]"
   ]
  },
  {
   "cell_type": "code",
   "execution_count": 7,
   "metadata": {},
   "outputs": [],
   "source": [
    "bids = np.linspace(1,10,10) \n",
    "prices = np.linspace(3,15,13)\n",
    "\n",
    "X_tmp = []\n",
    "X= []\n",
    "n_starting_points = 50\n",
    "#generate random starting point\n",
    "for b in bids:\n",
    "    for p in prices:\n",
    "        X_tmp.append([b,b,b,p])\n",
    "\n",
    "X= np.array(X_tmp)\n"
   ]
  },
  {
   "cell_type": "code",
   "execution_count": 8,
   "metadata": {},
   "outputs": [
    {
     "output_type": "stream",
     "name": "stderr",
     "text": [
      "100%|██████████| 130/130 [01:16<00:00,  1.70it/s]\n",
      "\n",
      "Best method is TNC with a value of 1136.3047933406942\n",
      "Solution\n",
      "bid = 3.9416202240277745\n",
      "price = 3.0\n",
      "\n"
     ]
    }
   ],
   "source": [
    "for xo in tqdm(X):\n",
    "    for m in methods:\n",
    "        solution = opt.minimize(objective, x0, method = m) \n",
    "        x = solution.x\n",
    "\n",
    "        if max_value < -objective(x):\n",
    "            max_value = -objective(x)\n",
    "            best_method = m\n",
    "            best_x = x\n",
    "\n",
    "print(\"\\n\")\n",
    "print(\"Best method is \" + best_method + \" with a value of \" + str(max_value))\n",
    "print('Solution')\n",
    "print('bid = ' + str(best_x[0]))\n",
    "print('price = ' + str(best_x[1]))"
   ]
  }
 ]
}